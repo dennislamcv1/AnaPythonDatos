{
 "cells": [
  {
   "cell_type": "markdown",
   "metadata": {},
   "source": [
    "# Insert\n",
    "La instrucción <b><font color = green>Insert</font></b> de SQLite se utiliza para agregar datos a una tabla de base de datos.\n",
    "\n",
    "#### Sintaxis\n",
    "\n",
    "<p style=\"text-align: center;\">\n",
    "<b>INSERT INTO</b> <i>TABLE_NAME</i> <i>[(column1, column2, column3,...columnN)]</i> <b>VALUES</b> <i>(value1, value2, value3,...valueN)</i>\n",
    "</p>\n",
    "\n",
    "<p style=\"text-align: center;\">column1, column2 ... son los campos de una tabla.</p>\n",
    "\n",
    "<p style=\"text-align: center;\"><b>SELECT</b> <i>*</i> <b>FROM</b> <i>table_name</i></p>"
   ]
  },
  {
   "cell_type": "code",
   "execution_count": 1,
   "metadata": {},
   "outputs": [],
   "source": [
    "import sqlite3\n",
    "db_file = 'data/soccer/database.sqlite'\n",
    "conn = sqlite3.connect(db_file)"
   ]
  },
  {
   "cell_type": "markdown",
   "metadata": {},
   "source": [
    "| Table    |    Total Rows    |    Total Columns    |    Columns                                                                                                                                                                                                                                                                                                                                                                                                                                                                                                                                                                                                                                                                                                                                                                                                                                                                                                                                                                                                                                                                                                                                                                                                                                                                                                                                                                                                                                                                                   |\n",
    "|----------|------------------|---------------------|----------------------------------------------------------------------------------------------------------------------------------------------------------------------------------------------------------------------------------------------------------------------------------------------------------------------------------------------------------------------------------------------------------------------------------------------------------------------------------------------------------------------------------------------------------------------------------------------------------------------------------------------------------------------------------------------------------------------------------------------------------------------------------------------------------------------------------------------------------------------------------------------------------------------------------------------------------------------------------------------------------------------------------------------------------------------------------------------------------------------------------------------------------------------------------------------------------------------------------------------------------------------------------------------------------------------------------------------------------------------------------------------------------------------------------------------------------------------------------------------|\n",
    "| Country  | 11               | 2                   | id, name                                                                                                                                                                                                                                                                                                                                                                                                                                                                                                                                                                                                                                                                                                                                                                                                                                                                                                                                                                                                                                                                                                                                                                                                                                                                                                                                                                                                                                                                                     |\n",
    "| League   | 11               | 3                   | id, country_id, name                                                                                                                                                                                                                                                                                                                                                                                                                                                                                                                                                                                                                                                                                                                                                                                                                                                                                                                                                                                                                                                                                                                                                                                                                                                                                                                                                                                                                                                                         |\n",
    "| Match    | 25979            | 115                 | id, country_id, league_id, season, stage, date, match_api_id, home_team_api_id, away_team_api_id, home_team_goal, away_team_goal, home_player_X1,   home_player_X2, home_player_X3, home_player_X4, home_player_X5,   home_player_X6, home_player_X7, home_player_X8, home_player_X9,   home_player_X10, home_player_X11, away_player_X1, away_player_X2,   away_player_X3, away_player_X4, away_player_X5, away_player_X6,   away_player_X7, away_player_X8, away_player_X9, away_player_X10,   away_player_X11, home_player_Y1, home_player_Y2, home_player_Y3,   home_player_Y4, home_player_Y5, home_player_Y6, home_player_Y7,   home_player_Y8, home_player_Y9, home_player_Y10, home_player_Y11,   away_player_Y1, away_player_Y2, away_player_Y3, away_player_Y4,   away_player_Y5, away_player_Y6, away_player_Y7, away_player_Y8,   away_player_Y9, away_player_Y10, away_player_Y11, home_player_1,   home_player_2, home_player_3, home_player_4, home_player_5, home_player_6,   home_player_7, home_player_8, home_player_9, home_player_10, home_player_11,   away_player_1, away_player_2, away_player_3, away_player_4, away_player_5,   away_player_6, away_player_7, away_player_8, away_player_9, away_player_10,   away_player_11, goal, shoton, shotoff, foulcommit, card, cross, corner,   possession, B365H, B365D, B365A, BWH, BWD, BWA, IWH, IWD, IWA, LBH, LBD, LBA,   PSH, PSD, PSA, WHH, WHD, WHA, SJH, SJD, SJA, VCH, VCD, VCA, GBH, GBD, GBA,   BSH, BSD, BSA |\n",
    "| Player   | 11060            | 7                   | id,   player_api_id, player_name, player_fifa_api_id, birthday, height, weight                                                                                                                                                                                                                                                                                                                                                                                                                                                                                                                                                                                                                                                                                                                                                                                                                                                                                                                                                                                                                                                                                                                                                                                                                                                                                                                                                                                                               |"
   ]
  },
  {
   "cell_type": "code",
   "execution_count": 2,
   "metadata": {},
   "outputs": [
    {
     "name": "stdout",
     "output_type": "stream",
     "text": [
      "(1, 'Belgium')\n",
      "(1729, 'England')\n",
      "(4769, 'France')\n",
      "(7809, 'Germany')\n",
      "(10257, 'Italy')\n",
      "(13274, 'Netherlands')\n",
      "(15722, 'Poland')\n",
      "(17642, 'Portugal')\n",
      "(19694, 'Scotland')\n",
      "(21518, 'Spain')\n",
      "(24558, 'Switzerland')\n"
     ]
    }
   ],
   "source": [
    "cursorObj = conn.cursor()\n",
    "cursorObj.execute('SELECT * from Country')\n",
    "for row in cursorObj.fetchall():\n",
    "    print(row)"
   ]
  },
  {
   "cell_type": "code",
   "execution_count": 3,
   "metadata": {},
   "outputs": [
    {
     "data": {
      "text/plain": [
       "<sqlite3.Cursor at 0x27e6ae18f10>"
      ]
     },
     "execution_count": 3,
     "metadata": {},
     "output_type": "execute_result"
    }
   ],
   "source": [
    "conn.execute('INSERT INTO Country values (?,?)', (2,'México'))"
   ]
  },
  {
   "cell_type": "code",
   "execution_count": 4,
   "metadata": {},
   "outputs": [
    {
     "name": "stdout",
     "output_type": "stream",
     "text": [
      "(1, 'Belgium')\n",
      "(2, 'México')\n",
      "(1729, 'England')\n",
      "(4769, 'France')\n",
      "(7809, 'Germany')\n",
      "(10257, 'Italy')\n",
      "(13274, 'Netherlands')\n",
      "(15722, 'Poland')\n",
      "(17642, 'Portugal')\n",
      "(19694, 'Scotland')\n",
      "(21518, 'Spain')\n",
      "(24558, 'Switzerland')\n"
     ]
    }
   ],
   "source": [
    "cursorObj = conn.cursor()\n",
    "cursorObj.execute('SELECT * from Country')\n",
    "for row in cursorObj.fetchall():\n",
    "    print(row)"
   ]
  },
  {
   "cell_type": "code",
   "execution_count": 5,
   "metadata": {},
   "outputs": [
    {
     "data": {
      "text/plain": [
       "<sqlite3.Cursor at 0x27e6ae8d1f0>"
      ]
     },
     "execution_count": 5,
     "metadata": {},
     "output_type": "execute_result"
    }
   ],
   "source": [
    "new_player = (120350,'Pele',180,178)\n",
    "conn.execute('INSERT INTO Player (id,player_name,height,weight) values (?,?,?,?)', new_player)"
   ]
  },
  {
   "cell_type": "code",
   "execution_count": 6,
   "metadata": {},
   "outputs": [
    {
     "data": {
      "text/plain": [
       "[(8536, 163605, 'Pele', 194020, '1991-09-29 00:00:00', 182.88, 170),\n",
       " (8537, 97490, 'Pele', 182626, '1987-09-14 00:00:00', 187.96, 176),\n",
       " (120350, None, 'Pele', None, None, 180, 178)]"
      ]
     },
     "execution_count": 6,
     "metadata": {},
     "output_type": "execute_result"
    }
   ],
   "source": [
    "cursorObj = conn.cursor()\n",
    "cursorObj.execute('SELECT * from Player WHERE player_name==\"Pele\"')\n",
    "cursorObj.fetchall()"
   ]
  },
  {
   "cell_type": "code",
   "execution_count": 7,
   "metadata": {},
   "outputs": [
    {
     "data": {
      "text/plain": [
       "<sqlite3.Cursor at 0x27e6ae8d490>"
      ]
     },
     "execution_count": 7,
     "metadata": {},
     "output_type": "execute_result"
    }
   ],
   "source": [
    "new_player = (103,'Diego Maradona',165,180)\n",
    "conn.execute('INSERT INTO Player (id,player_name,height,weight) values (?,?,?,?)', new_player)"
   ]
  },
  {
   "cell_type": "code",
   "execution_count": 8,
   "metadata": {},
   "outputs": [
    {
     "data": {
      "text/plain": [
       "[(103, None, 'Diego Maradona', None, None, 165, 180)]"
      ]
     },
     "execution_count": 8,
     "metadata": {},
     "output_type": "execute_result"
    }
   ],
   "source": [
    "cursorObj = conn.cursor()\n",
    "cursorObj.execute('SELECT * from Player WHERE id==103')\n",
    "cursorObj.fetchall()"
   ]
  },
  {
   "cell_type": "code",
   "execution_count": null,
   "metadata": {},
   "outputs": [],
   "source": []
  },
  {
   "cell_type": "code",
   "execution_count": null,
   "metadata": {},
   "outputs": [],
   "source": []
  }
 ],
 "metadata": {
  "kernelspec": {
   "display_name": "Python 3",
   "language": "python",
   "name": "python3"
  },
  "language_info": {
   "codemirror_mode": {
    "name": "ipython",
    "version": 3
   },
   "file_extension": ".py",
   "mimetype": "text/x-python",
   "name": "python",
   "nbconvert_exporter": "python",
   "pygments_lexer": "ipython3",
   "version": "3.8.8"
  }
 },
 "nbformat": 4,
 "nbformat_minor": 2
}
