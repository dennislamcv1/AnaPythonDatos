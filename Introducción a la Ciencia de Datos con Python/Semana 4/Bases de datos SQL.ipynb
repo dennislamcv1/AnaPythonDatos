{
 "cells": [
  {
   "cell_type": "markdown",
   "metadata": {},
   "source": [
    "# Bases de datos SQL\n",
    "<p style='text-align: justify;'>En la siguiente imagen observaremos un ejemplo muy sencillo de una <b><font color = green>base de datos SQL</font></b>.</p> \n",
    "<br>\n",
    "<center><img src=\"img/EjemploSQL.png\" width = \"80%\"></center>\n",
    "<br>\n",
    "Nuestra base de datos esta compuesta por tres tablas diferentes: \n",
    "1) Departamento, 2) Profesor, y 3) Curso.\n",
    "<p style='text-align: justify;'>Cada una de las tablas tiene diferentes campos relacionados con su contenido. Ademas, cada tabla tiene información especifica en forma de registros. Por ejemplo, la tabla de departamentos contiene un <b>Registro</b> por cada uno de los diferentes departamentos de una escuela y a su vez cada registro está dividido en cuatro celdas: el código de identificación, el nombre, la dirección y la descripción del departamento.</p>\n",
    "<p style='text-align: justify;'>Además de los componentes de cada tabla, también existen relaciones entre las tablas. En nuestro ejemplo cada uno de nuestros departamentos puede tener múltiples profesores asociados y cada uno de los profesores puede impartir múltiples cursos. En nuestra imagen se resaltan los elementos que se utilizan para relacionar las tablas dentro de nuestra base de datos.</p>"
   ]
  }
 ],
 "metadata": {
  "kernelspec": {
   "display_name": "Python 3",
   "language": "python",
   "name": "python3"
  },
  "language_info": {
   "codemirror_mode": {
    "name": "ipython",
    "version": 3
   },
   "file_extension": ".py",
   "mimetype": "text/x-python",
   "name": "python",
   "nbconvert_exporter": "python",
   "pygments_lexer": "ipython3",
   "version": "3.8.8"
  }
 },
 "nbformat": 4,
 "nbformat_minor": 2
}
