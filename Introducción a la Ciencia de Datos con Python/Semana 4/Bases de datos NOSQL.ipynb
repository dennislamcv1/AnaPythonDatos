{
 "cells": [
  {
   "cell_type": "markdown",
   "metadata": {},
   "source": [
    "# Bases de datos NoSQL\n",
    "\n",
    "### Bases de datos Clave - Valor\n",
    "<p style='text-align: justify;'>Las <b><font color = green>bases de datos clave - valor</font></b>, mejor conocidad por su nombre en inglés <b>Key-Value</b>, son las bases de datos NoSQL donde cada elemento (__Value__) está asociado con una llave única (__Key__). </p>\n",
    "<br>\n",
    "<center><img src=\"img/KeyValue.png\" width = \"70%\"></center>\n",
    "<br>\n",
    "<p style='text-align: justify;'>Este tipo de bases de datos permiten la recuperación de la información de una manera muy rápida, además se caracterizan por ser muy eficientes no solo para leer información sino también para escribir la información en la base de datos.</p>\n",
    "\n",
    "### Bases de datos Grafo\n",
    "<p style='text-align: justify;'>En las <b><font color = green>bases de datos grafo</font></b> la información almacenada se representa utilizando los nodos de un grafo y las relaciones que se presentan entre los datos son representadas utilizando la aristas o conexiones entre los nodos.</p>\n",
    "<br>\n",
    "<center><img src=\"img/Graph.png\" width = \"50%\"></center>\n",
    "<br>\n",
    "<p style='text-align: justify;'>Una de las fundamentales ventajas que este tipo de base de datos presenta es la visualización eficiente entre las relaciones de la información.</p>\n",
    "\n",
    "### Bases de datos Documentales\n",
    "<p style='text-align: justify;'>Las <b><font color = green>bases de datos documentales</font></b> son aquellas bases de datos donde la información se almacena en un documento y donde se a través del uso de una clave única se accede a cada registro.</p>\n",
    "<br>\n",
    "<center><img src=\"img/Doc.png\" width = \"40%\"></center>\n",
    "<br>\n",
    "<p style='text-align: justify;'>En este tipo de base de datos no solo se permite realizar búsquedas similares a las bases de datos __Clave-Valor__ sino que también es posible realizar consultas más avanzadas sobre el contenido del documento.</p>"
   ]
  }
 ],
 "metadata": {
  "kernelspec": {
   "display_name": "Python 3",
   "language": "python",
   "name": "python3"
  },
  "language_info": {
   "codemirror_mode": {
    "name": "ipython",
    "version": 3
   },
   "file_extension": ".py",
   "mimetype": "text/x-python",
   "name": "python",
   "nbconvert_exporter": "python",
   "pygments_lexer": "ipython3",
   "version": "3.8.8"
  }
 },
 "nbformat": 4,
 "nbformat_minor": 2
}
