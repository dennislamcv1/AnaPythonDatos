{
 "cells": [
  {
   "cell_type": "markdown",
   "metadata": {},
   "source": [
    "# Tuplas\n",
    "\n",
    "Las tuplas son estructuras de datos muy similar a las listas. Con la unica diferencia de que el "
   ]
  },
  {
   "cell_type": "code",
   "execution_count": 1,
   "metadata": {},
   "outputs": [
    {
     "data": {
      "text/plain": [
       "list"
      ]
     },
     "execution_count": 1,
     "metadata": {},
     "output_type": "execute_result"
    }
   ],
   "source": [
    "l = [1,2,\"tres\",True]\n",
    "type(l)"
   ]
  },
  {
   "cell_type": "code",
   "execution_count": 2,
   "metadata": {},
   "outputs": [
    {
     "name": "stdout",
     "output_type": "stream",
     "text": [
      "(1, 2, 'tres', True)\n"
     ]
    },
    {
     "data": {
      "text/plain": [
       "tuple"
      ]
     },
     "execution_count": 2,
     "metadata": {},
     "output_type": "execute_result"
    }
   ],
   "source": [
    "tupla = (1,2,\"tres\",True)\n",
    "print(tupla)\n",
    "type(tupla)"
   ]
  },
  {
   "cell_type": "markdown",
   "metadata": {},
   "source": [
    "El constructor de la tupla es la coma. Los parentesis se  usan por claridad."
   ]
  },
  {
   "cell_type": "code",
   "execution_count": 3,
   "metadata": {},
   "outputs": [
    {
     "name": "stdout",
     "output_type": "stream",
     "text": [
      "(1, 2, 'tres', True)\n"
     ]
    },
    {
     "data": {
      "text/plain": [
       "tuple"
      ]
     },
     "execution_count": 3,
     "metadata": {},
     "output_type": "execute_result"
    }
   ],
   "source": [
    "tupla_sin_parentesis = 1,2,\"tres\",True\n",
    "print(tupla_sin_parentesis)\n",
    "type(tupla_sin_parentesis)"
   ]
  },
  {
   "cell_type": "markdown",
   "metadata": {},
   "source": [
    "Las tuplas son inmutables. No se pueden modificar una vez creadas."
   ]
  },
  {
   "cell_type": "code",
   "execution_count": 4,
   "metadata": {},
   "outputs": [
    {
     "ename": "TypeError",
     "evalue": "'tuple' object does not support item assignment",
     "output_type": "error",
     "traceback": [
      "\u001b[1;31m---------------------------------------------------------------------------\u001b[0m",
      "\u001b[1;31mTypeError\u001b[0m                                 Traceback (most recent call last)",
      "\u001b[1;32m<ipython-input-4-01b44280c6e0>\u001b[0m in \u001b[0;36m<module>\u001b[1;34m\u001b[0m\n\u001b[1;32m----> 1\u001b[1;33m \u001b[0mtupla\u001b[0m\u001b[1;33m[\u001b[0m\u001b[1;36m0\u001b[0m\u001b[1;33m]\u001b[0m \u001b[1;33m=\u001b[0m \u001b[1;36m1\u001b[0m\u001b[1;33m\u001b[0m\u001b[1;33m\u001b[0m\u001b[0m\n\u001b[0m",
      "\u001b[1;31mTypeError\u001b[0m: 'tuple' object does not support item assignment"
     ]
    }
   ],
   "source": [
    "tupla[0] = 1"
   ]
  },
  {
   "cell_type": "code",
   "execution_count": 5,
   "metadata": {},
   "outputs": [
    {
     "ename": "AttributeError",
     "evalue": "'tuple' object has no attribute 'append'",
     "output_type": "error",
     "traceback": [
      "\u001b[1;31m---------------------------------------------------------------------------\u001b[0m",
      "\u001b[1;31mAttributeError\u001b[0m                            Traceback (most recent call last)",
      "\u001b[1;32m<ipython-input-5-33783a3f6a0f>\u001b[0m in \u001b[0;36m<module>\u001b[1;34m\u001b[0m\n\u001b[1;32m----> 1\u001b[1;33m \u001b[0mtupla\u001b[0m\u001b[1;33m.\u001b[0m\u001b[0mappend\u001b[0m\u001b[1;33m(\u001b[0m\u001b[1;36m1\u001b[0m\u001b[1;33m)\u001b[0m\u001b[1;33m\u001b[0m\u001b[1;33m\u001b[0m\u001b[0m\n\u001b[0m",
      "\u001b[1;31mAttributeError\u001b[0m: 'tuple' object has no attribute 'append'"
     ]
    }
   ],
   "source": [
    "tupla.append(1)"
   ]
  },
  {
   "cell_type": "code",
   "execution_count": 6,
   "metadata": {},
   "outputs": [
    {
     "data": {
      "text/plain": [
       "(0.0, 0.1)"
      ]
     },
     "execution_count": 6,
     "metadata": {},
     "output_type": "execute_result"
    }
   ],
   "source": [
    "def get_coords():\n",
    "    lat = 0.0\n",
    "    lon = 0.1\n",
    "    return lat,lon\n",
    "\n",
    "get_coords()"
   ]
  },
  {
   "cell_type": "markdown",
   "metadata": {},
   "source": [
    "# Diccionarios"
   ]
  },
  {
   "cell_type": "markdown",
   "metadata": {},
   "source": [
    "Los dicionarios relacionan una llave con un valor."
   ]
  },
  {
   "cell_type": "code",
   "execution_count": 7,
   "metadata": {},
   "outputs": [],
   "source": [
    "d = {\"Aguascalientes\" : \"Aguascalientes\",\n",
    "\"Baja California\" : \"Mexicali\",\n",
    "\"Baja California Sur\" : \"La Paz\",\n",
    "\"Campeche\" : \"San Francisco de Campeche\",\n",
    "\"Chihuahua\" : \"Chihuahua\",\n",
    "\"Chiapas\" : \"Tuxtla Gutiérrez\",\n",
    "\"Coahuila\" : \"Saltillo\",\n",
    "\"Colima\" : \"Colima\",\n",
    "\"Durango\" : \"Victoria de Durango\",\n",
    "\"Guanajuato\" : \"Guanajuato\",\n",
    "\"Guerrero\" : \"Chilpancingo de los Bravo\",\n",
    "\"Hidalgo\" : \"Pachuca de Soto\",\n",
    "\"Jalisco\" : \"Guadalajara\",\n",
    "\"México\" : \"Toluca de Lerdo\",\n",
    "\"Michoacán\" : \"Morelia\",\n",
    "\"Morelos\" : \"Cuernavaca\",\n",
    "\"Nayarit\" : \"Tepic\",\n",
    "\"Nuevo León\" : \"Monterrey\",\n",
    "\"Oaxaca\" : \"Oaxaca de Juárez\",\n",
    "\"Puebla\" : \"Puebla de Zaragoza\",\n",
    "\"Querétaro\" : \"Santiago de Querétaro\",\n",
    "\"Quintana Roo\" : \"Chetumal\",\n",
    "\"San Luis Potosí\" : \"San Luis Potosí\",\n",
    "\"Sinaloa\" : \"Culiacán Rosales\",\n",
    "\"Sonora\" : \"Hermosillo\",\n",
    "\"Tabasco\" : \"Villahermosa\",\n",
    "\"Tamaulipas\" : \"Ciudad Victoria\",\n",
    "\"Tlaxcala\" : \"Tlaxcala de Xicohténcatl\",\n",
    "\"Veracruz\" : \"Xalapa-Enríquez\",\n",
    "\"Yucatán\" : \"Mérida\",\n",
    "\"Zacatecas\" : \"Zacatecas\"}"
   ]
  },
  {
   "cell_type": "code",
   "execution_count": 8,
   "metadata": {},
   "outputs": [
    {
     "data": {
      "text/plain": [
       "'Ciudad Victoria'"
      ]
     },
     "execution_count": 8,
     "metadata": {},
     "output_type": "execute_result"
    }
   ],
   "source": [
    "d[\"Tamaulipas\"]"
   ]
  },
  {
   "cell_type": "markdown",
   "metadata": {},
   "source": [
    "Los diccionarios son colleciones de objetos sin orden definido"
   ]
  },
  {
   "cell_type": "code",
   "execution_count": 9,
   "metadata": {},
   "outputs": [
    {
     "ename": "KeyError",
     "evalue": "0",
     "output_type": "error",
     "traceback": [
      "\u001b[1;31m---------------------------------------------------------------------------\u001b[0m",
      "\u001b[1;31mKeyError\u001b[0m                                  Traceback (most recent call last)",
      "\u001b[1;32m<ipython-input-9-123a9cc6df61>\u001b[0m in \u001b[0;36m<module>\u001b[1;34m\u001b[0m\n\u001b[1;32m----> 1\u001b[1;33m \u001b[0md\u001b[0m\u001b[1;33m[\u001b[0m\u001b[1;36m0\u001b[0m\u001b[1;33m]\u001b[0m\u001b[1;33m\u001b[0m\u001b[1;33m\u001b[0m\u001b[0m\n\u001b[0m",
      "\u001b[1;31mKeyError\u001b[0m: 0"
     ]
    }
   ],
   "source": [
    "d[0]"
   ]
  },
  {
   "cell_type": "code",
   "execution_count": 10,
   "metadata": {},
   "outputs": [
    {
     "data": {
      "text/plain": [
       "'Austin'"
      ]
     },
     "execution_count": 10,
     "metadata": {},
     "output_type": "execute_result"
    }
   ],
   "source": [
    "d[\"Texas\"] = \"Austin\"\n",
    "d[\"Texas\"]"
   ]
  },
  {
   "cell_type": "code",
   "execution_count": 11,
   "metadata": {},
   "outputs": [
    {
     "data": {
      "text/plain": [
       "{'Aguascalientes': 'Aguascalientes',\n",
       " 'Baja California': 'Mexicali',\n",
       " 'Baja California Sur': 'La Paz',\n",
       " 'Campeche': 'San Francisco de Campeche',\n",
       " 'Chihuahua': 'Chihuahua',\n",
       " 'Chiapas': 'Tuxtla Gutiérrez',\n",
       " 'Coahuila': 'Saltillo',\n",
       " 'Colima': 'Colima',\n",
       " 'Durango': 'Victoria de Durango',\n",
       " 'Guanajuato': 'Guanajuato',\n",
       " 'Guerrero': 'Chilpancingo de los Bravo',\n",
       " 'Hidalgo': 'Pachuca de Soto',\n",
       " 'Jalisco': 'Guadalajara',\n",
       " 'México': 'Toluca de Lerdo',\n",
       " 'Michoacán': 'Morelia',\n",
       " 'Morelos': 'Cuernavaca',\n",
       " 'Nayarit': 'Tepic',\n",
       " 'Nuevo León': 'Monterrey',\n",
       " 'Oaxaca': 'Oaxaca de Juárez',\n",
       " 'Puebla': 'Puebla de Zaragoza',\n",
       " 'Querétaro': 'Santiago de Querétaro',\n",
       " 'Quintana Roo': 'Chetumal',\n",
       " 'San Luis Potosí': 'San Luis Potosí',\n",
       " 'Sinaloa': 'Culiacán Rosales',\n",
       " 'Sonora': 'Hermosillo',\n",
       " 'Tabasco': 'Villahermosa',\n",
       " 'Tamaulipas': 'Ciudad Victoria',\n",
       " 'Tlaxcala': 'Tlaxcala de Xicohténcatl',\n",
       " 'Veracruz': 'Xalapa-Enríquez',\n",
       " 'Yucatán': 'Mérida',\n",
       " 'Zacatecas': 'Zacatecas',\n",
       " 'Texas': 'Austin'}"
      ]
     },
     "execution_count": 11,
     "metadata": {},
     "output_type": "execute_result"
    }
   ],
   "source": [
    "d"
   ]
  },
  {
   "cell_type": "code",
   "execution_count": 12,
   "metadata": {},
   "outputs": [],
   "source": [
    "del(d[\"Texas\"])"
   ]
  },
  {
   "cell_type": "code",
   "execution_count": 13,
   "metadata": {},
   "outputs": [
    {
     "ename": "KeyError",
     "evalue": "'Texas'",
     "output_type": "error",
     "traceback": [
      "\u001b[1;31m---------------------------------------------------------------------------\u001b[0m",
      "\u001b[1;31mKeyError\u001b[0m                                  Traceback (most recent call last)",
      "\u001b[1;32m<ipython-input-13-ed0b9ed81048>\u001b[0m in \u001b[0;36m<module>\u001b[1;34m\u001b[0m\n\u001b[1;32m----> 1\u001b[1;33m \u001b[0md\u001b[0m\u001b[1;33m[\u001b[0m\u001b[1;34m\"Texas\"\u001b[0m\u001b[1;33m]\u001b[0m\u001b[1;33m\u001b[0m\u001b[1;33m\u001b[0m\u001b[0m\n\u001b[0m",
      "\u001b[1;31mKeyError\u001b[0m: 'Texas'"
     ]
    }
   ],
   "source": [
    "d[\"Texas\"]"
   ]
  },
  {
   "cell_type": "code",
   "execution_count": 14,
   "metadata": {},
   "outputs": [
    {
     "data": {
      "text/plain": [
       "{'Aguascalientes': 'Aguascalientes',\n",
       " 'Baja California': 'Mexicali',\n",
       " 'Baja California Sur': 'La Paz',\n",
       " 'Campeche': 'San Francisco de Campeche',\n",
       " 'Chihuahua': 'Chihuahua',\n",
       " 'Chiapas': 'Tuxtla Gutiérrez',\n",
       " 'Coahuila': 'Saltillo',\n",
       " 'Colima': 'Colima',\n",
       " 'Durango': 'Victoria de Durango',\n",
       " 'Guanajuato': 'Guanajuato',\n",
       " 'Guerrero': 'Chilpancingo de los Bravo',\n",
       " 'Hidalgo': 'Pachuca de Soto',\n",
       " 'Jalisco': 'Guadalajara',\n",
       " 'México': 'Toluca de Lerdo',\n",
       " 'Michoacán': 'Morelia',\n",
       " 'Morelos': 'Cuernavaca',\n",
       " 'Nayarit': 'Tepic',\n",
       " 'Nuevo León': 'Monterrey',\n",
       " 'Oaxaca': 'Oaxaca de Juárez',\n",
       " 'Puebla': 'Puebla de Zaragoza',\n",
       " 'Querétaro': 'Santiago de Querétaro',\n",
       " 'Quintana Roo': 'Chetumal',\n",
       " 'San Luis Potosí': 'San Luis Potosí',\n",
       " 'Sinaloa': 'Culiacán Rosales',\n",
       " 'Sonora': 'Hermosillo',\n",
       " 'Tabasco': 'Villahermosa',\n",
       " 'Tamaulipas': 'Ciudad Victoria',\n",
       " 'Tlaxcala': 'Tlaxcala de Xicohténcatl',\n",
       " 'Veracruz': 'Xalapa-Enríquez',\n",
       " 'Yucatán': 'Mérida',\n",
       " 'Zacatecas': 'Zacatecas'}"
      ]
     },
     "execution_count": 14,
     "metadata": {},
     "output_type": "execute_result"
    }
   ],
   "source": [
    "d"
   ]
  },
  {
   "cell_type": "code",
   "execution_count": 15,
   "metadata": {},
   "outputs": [
    {
     "data": {
      "text/plain": [
       "dict_keys(['Aguascalientes', 'Baja California', 'Baja California Sur', 'Campeche', 'Chihuahua', 'Chiapas', 'Coahuila', 'Colima', 'Durango', 'Guanajuato', 'Guerrero', 'Hidalgo', 'Jalisco', 'México', 'Michoacán', 'Morelos', 'Nayarit', 'Nuevo León', 'Oaxaca', 'Puebla', 'Querétaro', 'Quintana Roo', 'San Luis Potosí', 'Sinaloa', 'Sonora', 'Tabasco', 'Tamaulipas', 'Tlaxcala', 'Veracruz', 'Yucatán', 'Zacatecas'])"
      ]
     },
     "execution_count": 15,
     "metadata": {},
     "output_type": "execute_result"
    }
   ],
   "source": [
    "d.keys()"
   ]
  },
  {
   "cell_type": "code",
   "execution_count": 16,
   "metadata": {},
   "outputs": [
    {
     "data": {
      "text/plain": [
       "dict_values(['Aguascalientes', 'Mexicali', 'La Paz', 'San Francisco de Campeche', 'Chihuahua', 'Tuxtla Gutiérrez', 'Saltillo', 'Colima', 'Victoria de Durango', 'Guanajuato', 'Chilpancingo de los Bravo', 'Pachuca de Soto', 'Guadalajara', 'Toluca de Lerdo', 'Morelia', 'Cuernavaca', 'Tepic', 'Monterrey', 'Oaxaca de Juárez', 'Puebla de Zaragoza', 'Santiago de Querétaro', 'Chetumal', 'San Luis Potosí', 'Culiacán Rosales', 'Hermosillo', 'Villahermosa', 'Ciudad Victoria', 'Tlaxcala de Xicohténcatl', 'Xalapa-Enríquez', 'Mérida', 'Zacatecas'])"
      ]
     },
     "execution_count": 16,
     "metadata": {},
     "output_type": "execute_result"
    }
   ],
   "source": [
    "d.values()"
   ]
  },
  {
   "cell_type": "markdown",
   "metadata": {},
   "source": [
    "# Listas"
   ]
  },
  {
   "cell_type": "code",
   "execution_count": 17,
   "metadata": {},
   "outputs": [
    {
     "data": {
      "text/plain": [
       "[1, 4, 3, 4, 8, 9, 10]"
      ]
     },
     "execution_count": 17,
     "metadata": {},
     "output_type": "execute_result"
    }
   ],
   "source": [
    "l = [1,4,3,4,8,9]\n",
    "l.append(10)\n",
    "l"
   ]
  },
  {
   "cell_type": "code",
   "execution_count": 18,
   "metadata": {},
   "outputs": [
    {
     "data": {
      "text/plain": [
       "2"
      ]
     },
     "execution_count": 18,
     "metadata": {},
     "output_type": "execute_result"
    }
   ],
   "source": [
    "l.count(4)"
   ]
  },
  {
   "cell_type": "code",
   "execution_count": 19,
   "metadata": {},
   "outputs": [
    {
     "data": {
      "text/plain": [
       "[1, 4, 3, 4, 8, 9, 10, 3, 4, 6]"
      ]
     },
     "execution_count": 19,
     "metadata": {},
     "output_type": "execute_result"
    }
   ],
   "source": [
    "l.extend([3,4,6])\n",
    "l"
   ]
  },
  {
   "cell_type": "code",
   "execution_count": 20,
   "metadata": {},
   "outputs": [
    {
     "data": {
      "text/plain": [
       "[1, 5, 4, 3, 4, 8, 9, 10, 3, 4, 6]"
      ]
     },
     "execution_count": 20,
     "metadata": {},
     "output_type": "execute_result"
    }
   ],
   "source": [
    "l.insert(1,5)\n",
    "l"
   ]
  },
  {
   "cell_type": "code",
   "execution_count": 21,
   "metadata": {},
   "outputs": [
    {
     "name": "stdout",
     "output_type": "stream",
     "text": [
      "6\n"
     ]
    },
    {
     "data": {
      "text/plain": [
       "[1, 5, 4, 3, 4, 8, 9, 10, 3, 4]"
      ]
     },
     "execution_count": 21,
     "metadata": {},
     "output_type": "execute_result"
    }
   ],
   "source": [
    "print(l.pop())\n",
    "l"
   ]
  },
  {
   "cell_type": "code",
   "execution_count": 22,
   "metadata": {},
   "outputs": [
    {
     "data": {
      "text/plain": [
       "[1, 5, 4, 3, 4, 8, 10, 3, 4]"
      ]
     },
     "execution_count": 22,
     "metadata": {},
     "output_type": "execute_result"
    }
   ],
   "source": [
    "l.remove(9)\n",
    "l"
   ]
  },
  {
   "cell_type": "code",
   "execution_count": 23,
   "metadata": {},
   "outputs": [
    {
     "data": {
      "text/plain": [
       "[4, 3, 10, 8, 4, 3, 4, 5, 1]"
      ]
     },
     "execution_count": 23,
     "metadata": {},
     "output_type": "execute_result"
    }
   ],
   "source": [
    "l.reverse()\n",
    "l"
   ]
  },
  {
   "cell_type": "code",
   "execution_count": 24,
   "metadata": {},
   "outputs": [
    {
     "data": {
      "text/plain": [
       "[1, 3, 3, 4, 4, 4, 5, 8, 10]"
      ]
     },
     "execution_count": 24,
     "metadata": {},
     "output_type": "execute_result"
    }
   ],
   "source": [
    "l.sort()\n",
    "l"
   ]
  },
  {
   "cell_type": "code",
   "execution_count": 25,
   "metadata": {},
   "outputs": [
    {
     "data": {
      "text/plain": [
       "[10, 8, 5, 4, 4, 4, 3, 3, 1]"
      ]
     },
     "execution_count": 25,
     "metadata": {},
     "output_type": "execute_result"
    }
   ],
   "source": [
    "l.sort(reverse = True)\n",
    "l"
   ]
  }
 ],
 "metadata": {
  "kernelspec": {
   "display_name": "Python 3",
   "language": "python",
   "name": "python3"
  },
  "language_info": {
   "codemirror_mode": {
    "name": "ipython",
    "version": 3
   },
   "file_extension": ".py",
   "mimetype": "text/x-python",
   "name": "python",
   "nbconvert_exporter": "python",
   "pygments_lexer": "ipython3",
   "version": "3.8.8"
  }
 },
 "nbformat": 4,
 "nbformat_minor": 2
}
