{
 "cells": [
  {
   "cell_type": "markdown",
   "metadata": {},
   "source": [
    "# Estructuras de control de flujo"
   ]
  },
  {
   "cell_type": "markdown",
   "metadata": {},
   "source": [
    "## Operadores relacionales "
   ]
  },
  {
   "cell_type": "markdown",
   "metadata": {},
   "source": [
    "|Símbolo|Significado|Ejemplo|Resultado|\n",
    "|:---: |:---: |:---: |:---: |\n",
    "|==|Igual que|5 == 7|False|\n",
    "|!=|Distinto que|5 != 7|True|\n",
    "|<|Menor que|8 < 12|True|\n",
    "|>|Mayor que|12 > 7|True|\n",
    "|<=|Menor o igual que|12 <= 12|True|\n",
    "|>=|Mayor o igual que|4 >= 5|False|\n"
   ]
  },
  {
   "cell_type": "markdown",
   "metadata": {},
   "source": [
    "## Operadores lógicos"
   ]
  },
  {
   "cell_type": "markdown",
   "metadata": {},
   "source": [
    "| Operador | Ejemplo               | Desarrollo         | Resultado |\n",
    "|----------|-----------------------|--------------------|-----------|\n",
    "| and      | `5 == 7` and `3 == 3` | `False` and `True` | `False`   |\n",
    "| and      | `5 <= 7` and `3 == 3` | `True` and `True`  | `True`    |\n",
    "| or       | `5 == 7` or `3 == 3`  | `False` or `True`  | `True`    |\n",
    "| or       | `5 == 7` or `3 != 3`  | `False` or `False` | `False`   |"
   ]
  },
  {
   "cell_type": "markdown",
   "metadata": {},
   "source": [
    "## Estructuras de control condicionales"
   ]
  },
  {
   "cell_type": "markdown",
   "metadata": {},
   "source": [
    "### IF\n",
    "~~~\n",
    "if [condición]:\n",
    "    instrucciones ejecutadas si se cumple\n",
    "~~~"
   ]
  },
  {
   "cell_type": "code",
   "execution_count": 1,
   "metadata": {},
   "outputs": [
    {
     "name": "stdout",
     "output_type": "stream",
     "text": [
      "Es verdadero\n"
     ]
    }
   ],
   "source": [
    "if True:\n",
    "    print(\"Es verdadero\")"
   ]
  },
  {
   "cell_type": "code",
   "execution_count": 2,
   "metadata": {},
   "outputs": [
    {
     "name": "stdout",
     "output_type": "stream",
     "text": [
      "3 es mayor a 2\n"
     ]
    }
   ],
   "source": [
    "if 3>2:\n",
    "    print(\"3 es mayor a 2\")"
   ]
  },
  {
   "cell_type": "code",
   "execution_count": 3,
   "metadata": {},
   "outputs": [],
   "source": [
    "if 3<2:\n",
    "    print(\"3 es mayor a 2\")"
   ]
  },
  {
   "cell_type": "code",
   "execution_count": 4,
   "metadata": {},
   "outputs": [
    {
     "name": "stdout",
     "output_type": "stream",
     "text": [
      "Fuera del if\n"
     ]
    }
   ],
   "source": [
    "if False:\n",
    "    print(\"Dentro del if\")\n",
    "print(\"Fuera del if\")"
   ]
  },
  {
   "cell_type": "markdown",
   "metadata": {},
   "source": [
    "### IF ELSE"
   ]
  },
  {
   "cell_type": "markdown",
   "metadata": {},
   "source": [
    "~~~\n",
    "if [condición]:\n",
    "    instrucciones ejecutadas si se cumple\n",
    "else:\n",
    "    en caso contrario\n",
    "~~~"
   ]
  },
  {
   "cell_type": "code",
   "execution_count": 5,
   "metadata": {},
   "outputs": [
    {
     "name": "stdout",
     "output_type": "stream",
     "text": [
      "3 es mayor a 2\n"
     ]
    }
   ],
   "source": [
    "if 3>2:\n",
    "    print(\"3 es mayor a 2\")\n",
    "else:\n",
    "    print(\"2 es mayor a 3\")"
   ]
  },
  {
   "cell_type": "code",
   "execution_count": 6,
   "metadata": {},
   "outputs": [
    {
     "name": "stdout",
     "output_type": "stream",
     "text": [
      "a es mayor a b\n"
     ]
    }
   ],
   "source": [
    "a = 4\n",
    "b = 3\n",
    "if a>b:\n",
    "    print(\"a es mayor a b\")\n",
    "else:\n",
    "    print(\"b es mayor a a\")"
   ]
  },
  {
   "cell_type": "markdown",
   "metadata": {},
   "source": [
    "### ELIF"
   ]
  },
  {
   "cell_type": "code",
   "execution_count": 7,
   "metadata": {},
   "outputs": [
    {
     "name": "stdout",
     "output_type": "stream",
     "text": [
      "Aprobado\n"
     ]
    }
   ],
   "source": [
    "cal = 80\n",
    "\n",
    "if cal < 50:\n",
    "    print(\"Reprobado\")\n",
    "elif cal >=50 and cal < 90:\n",
    "    print(\"Aprobado\")\n",
    "else:\n",
    "    print(\"Excelente\")"
   ]
  },
  {
   "cell_type": "markdown",
   "metadata": {},
   "source": [
    "## Estructuras de control ciclicas"
   ]
  },
  {
   "cell_type": "markdown",
   "metadata": {},
   "source": [
    "### While\n",
    "~~~\n",
    "while [condición]:\n",
    "    bloque de instrucciones\n",
    "~~~"
   ]
  },
  {
   "cell_type": "code",
   "execution_count": 8,
   "metadata": {},
   "outputs": [
    {
     "name": "stdout",
     "output_type": "stream",
     "text": [
      "0 personas en el elevador\n",
      "1 personas en el elevador\n",
      "2 personas en el elevador\n",
      "3 personas en el elevador\n",
      "4 personas en el elevador\n",
      "5 personas en el elevador\n"
     ]
    }
   ],
   "source": [
    "personas = 0\n",
    "cap_max=5\n",
    "while personas <= cap_max:\n",
    "    print(str(personas), \"personas en el elevador\")\n",
    "    personas +=1"
   ]
  },
  {
   "cell_type": "markdown",
   "metadata": {},
   "source": [
    "### For\n",
    "~~~\n",
    "for [variable] in [list]:\n",
    "    bloque de instrucciones\n",
    "~~~"
   ]
  },
  {
   "cell_type": "code",
   "execution_count": 9,
   "metadata": {},
   "outputs": [
    {
     "name": "stdout",
     "output_type": "stream",
     "text": [
      "Manuel\n",
      "Antonio\n",
      "Carlos\n",
      "Jose\n"
     ]
    }
   ],
   "source": [
    "alumnos = [\"Manuel\",\"Antonio\",\"Carlos\",\"Jose\"]\n",
    "\n",
    "for alumno in alumnos:\n",
    "    print(alumno)"
   ]
  },
  {
   "cell_type": "code",
   "execution_count": 10,
   "metadata": {},
   "outputs": [
    {
     "name": "stdout",
     "output_type": "stream",
     "text": [
      "0\n",
      "1\n",
      "2\n",
      "3\n",
      "4\n",
      "5\n",
      "6\n",
      "7\n",
      "8\n",
      "9\n"
     ]
    }
   ],
   "source": [
    "for n in range(0,10):\n",
    "    print(n)"
   ]
  },
  {
   "cell_type": "code",
   "execution_count": null,
   "metadata": {},
   "outputs": [],
   "source": []
  }
 ],
 "metadata": {
  "kernelspec": {
   "display_name": "Python 3",
   "language": "python",
   "name": "python3"
  },
  "language_info": {
   "codemirror_mode": {
    "name": "ipython",
    "version": 3
   },
   "file_extension": ".py",
   "mimetype": "text/x-python",
   "name": "python",
   "nbconvert_exporter": "python",
   "pygments_lexer": "ipython3",
   "version": "3.8.8"
  }
 },
 "nbformat": 4,
 "nbformat_minor": 2
}
