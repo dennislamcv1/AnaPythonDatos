{
 "cells": [
  {
   "cell_type": "markdown",
   "metadata": {},
   "source": [
    "## Funciones\n",
    "Las funciones son fragmentos de código que agrupan un conjunto de instrucciones y devuelven un valor. Estas nos ayudan para separar el código en segmentos que nos facilitan encontrar errores y también nos permiten reciclar código."
   ]
  },
  {
   "cell_type": "markdown",
   "metadata": {},
   "source": [
    "~~~\n",
    "def nombre_funcion(param1,param2):\n",
    "    bloque de codigo\n",
    "    return valor_a_regresar\n",
    "~~~"
   ]
  },
  {
   "cell_type": "code",
   "execution_count": 1,
   "metadata": {},
   "outputs": [],
   "source": [
    "def suma(a,b):\n",
    "    return a+b"
   ]
  },
  {
   "cell_type": "code",
   "execution_count": 2,
   "metadata": {},
   "outputs": [
    {
     "name": "stdout",
     "output_type": "stream",
     "text": [
      "10\n"
     ]
    }
   ],
   "source": [
    "print(suma(2,8))"
   ]
  },
  {
   "cell_type": "code",
   "execution_count": 3,
   "metadata": {},
   "outputs": [],
   "source": [
    "def aplicar_impuesto(subtotal,impuesto):\n",
    "    return subtotal+subtotal*impuesto"
   ]
  },
  {
   "cell_type": "code",
   "execution_count": 4,
   "metadata": {},
   "outputs": [
    {
     "data": {
      "text/plain": [
       "116.0"
      ]
     },
     "execution_count": 4,
     "metadata": {},
     "output_type": "execute_result"
    }
   ],
   "source": [
    "aplicar_impuesto(100,0.16)"
   ]
  },
  {
   "cell_type": "code",
   "execution_count": 5,
   "metadata": {},
   "outputs": [],
   "source": [
    "def aplicar_impuesto(subtotal,impuesto=0.16):\n",
    "    return subtotal+subtotal*impuesto"
   ]
  },
  {
   "cell_type": "code",
   "execution_count": 6,
   "metadata": {},
   "outputs": [
    {
     "data": {
      "text/plain": [
       "116.0"
      ]
     },
     "execution_count": 6,
     "metadata": {},
     "output_type": "execute_result"
    }
   ],
   "source": [
    "aplicar_impuesto(100)"
   ]
  },
  {
   "cell_type": "code",
   "execution_count": 7,
   "metadata": {},
   "outputs": [
    {
     "data": {
      "text/plain": [
       "105.0"
      ]
     },
     "execution_count": 7,
     "metadata": {},
     "output_type": "execute_result"
    }
   ],
   "source": [
    "aplicar_impuesto(100,0.05)"
   ]
  },
  {
   "cell_type": "code",
   "execution_count": 8,
   "metadata": {},
   "outputs": [
    {
     "data": {
      "text/plain": [
       "105.0"
      ]
     },
     "execution_count": 8,
     "metadata": {},
     "output_type": "execute_result"
    }
   ],
   "source": [
    "aplicar_impuesto(impuesto=0.05,subtotal=100)"
   ]
  },
  {
   "cell_type": "code",
   "execution_count": 9,
   "metadata": {},
   "outputs": [
    {
     "name": "stdout",
     "output_type": "stream",
     "text": [
      "121.8\n"
     ]
    }
   ],
   "source": [
    "subtotal = 100\n",
    "subtotal = aplicar_impuesto(100)\n",
    "total = aplicar_impuesto(subtotal,0.05)\n",
    "print(total)"
   ]
  },
  {
   "cell_type": "code",
   "execution_count": 10,
   "metadata": {},
   "outputs": [],
   "source": [
    "def perimetro_rect(a,b):\n",
    "    return a*2+b*2\n",
    "\n",
    "def area_rect(a,b):\n",
    "    return a*b\n",
    "\n",
    "def operaciones(a,b):\n",
    "    return area_rect(a,b),perimetro_rect(a,b)"
   ]
  },
  {
   "cell_type": "code",
   "execution_count": 11,
   "metadata": {},
   "outputs": [
    {
     "data": {
      "text/plain": [
       "(10, 14)"
      ]
     },
     "execution_count": 11,
     "metadata": {},
     "output_type": "execute_result"
    }
   ],
   "source": [
    "operaciones(2,5)"
   ]
  },
  {
   "cell_type": "code",
   "execution_count": 12,
   "metadata": {},
   "outputs": [],
   "source": [
    "listOfNumbers = [4,6,2,7,4,8,9]"
   ]
  },
  {
   "cell_type": "code",
   "execution_count": 13,
   "metadata": {},
   "outputs": [
    {
     "name": "stdout",
     "output_type": "stream",
     "text": [
      "max: 9\n",
      "min: 2\n",
      "sum: 40\n",
      "len: 7\n",
      "Promedio: 5.714285714285714\n",
      "Promedio 2 5.714285714285714\n"
     ]
    }
   ],
   "source": [
    "#Imprimir max, min ,sum, len de una lista\n",
    "print(\"max:\",max(listOfNumbers))\n",
    "print(\"min:\",min(listOfNumbers))\n",
    "print(\"sum:\",sum(listOfNumbers))\n",
    "print(\"len:\",len(listOfNumbers))\n",
    "\n",
    "#Promedio de forma tradicional\n",
    "aux = 0\n",
    "for n in listOfNumbers:\n",
    "    aux = aux+n\n",
    "promedio = aux/len(listOfNumbers)\n",
    "print(\"Promedio:\",promedio)\n",
    "    \n",
    "#Promedio simplificado\n",
    "print(\"Promedio 2\",sum(listOfNumbers)/len(listOfNumbers))"
   ]
  }
 ],
 "metadata": {
  "kernelspec": {
   "display_name": "Python 3",
   "language": "python",
   "name": "python3"
  },
  "language_info": {
   "codemirror_mode": {
    "name": "ipython",
    "version": 3
   },
   "file_extension": ".py",
   "mimetype": "text/x-python",
   "name": "python",
   "nbconvert_exporter": "python",
   "pygments_lexer": "ipython3",
   "version": "3.8.8"
  }
 },
 "nbformat": 4,
 "nbformat_minor": 2
}
