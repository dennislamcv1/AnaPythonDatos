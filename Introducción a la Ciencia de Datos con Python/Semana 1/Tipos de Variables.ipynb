{
 "cells": [
  {
   "cell_type": "markdown",
   "metadata": {},
   "source": [
    "# Tipos de variables en python\n",
    "### Variables"
   ]
  },
  {
   "cell_type": "code",
   "execution_count": 1,
   "metadata": {},
   "outputs": [],
   "source": [
    "x = 12"
   ]
  },
  {
   "cell_type": "code",
   "execution_count": 2,
   "metadata": {},
   "outputs": [
    {
     "name": "stdout",
     "output_type": "stream",
     "text": [
      "12\n"
     ]
    }
   ],
   "source": [
    "print(x)"
   ]
  },
  {
   "cell_type": "code",
   "execution_count": 3,
   "metadata": {},
   "outputs": [
    {
     "name": "stdout",
     "output_type": "stream",
     "text": [
      "<class 'int'>\n"
     ]
    }
   ],
   "source": [
    "print(type(x))"
   ]
  },
  {
   "cell_type": "code",
   "execution_count": 4,
   "metadata": {},
   "outputs": [
    {
     "name": "stdout",
     "output_type": "stream",
     "text": [
      "2135468168168168198161565516516816116516516819165165165168168198491387651998152569\n"
     ]
    }
   ],
   "source": [
    "#Numeros enteros son tan grandes como quieras\n",
    "print(2135468168168168198161565516516816116516516819165165165168168198491387651998152568+1)"
   ]
  },
  {
   "cell_type": "markdown",
   "metadata": {},
   "source": [
    "## Tipos de variables.\n",
    "\n",
    "### Numeros de punto flotante"
   ]
  },
  {
   "cell_type": "code",
   "execution_count": 5,
   "metadata": {},
   "outputs": [
    {
     "name": "stdout",
     "output_type": "stream",
     "text": [
      "<class 'float'>\n",
      "float: 5.26\n"
     ]
    }
   ],
   "source": [
    "f = 5.26\n",
    "print(type(f))\n",
    "print(\"float:\",f)"
   ]
  },
  {
   "cell_type": "code",
   "execution_count": 6,
   "metadata": {},
   "outputs": [
    {
     "name": "stdout",
     "output_type": "stream",
     "text": [
      "<class 'float'>\n",
      "float con notación cientifica: 122000.0\n"
     ]
    }
   ],
   "source": [
    "f = 12.2e4\n",
    "print(type(f))\n",
    "print(\"float con notación cientifica:\", f)"
   ]
  },
  {
   "cell_type": "markdown",
   "metadata": {},
   "source": [
    "### Numeros Imaginarios"
   ]
  },
  {
   "cell_type": "code",
   "execution_count": 7,
   "metadata": {},
   "outputs": [
    {
     "name": "stdout",
     "output_type": "stream",
     "text": [
      "<class 'complex'>\n",
      "complex: (2+4j)\n"
     ]
    }
   ],
   "source": [
    "i = 2+4j\n",
    "print(type(i))\n",
    "print(\"complex:\",i)"
   ]
  },
  {
   "cell_type": "markdown",
   "metadata": {},
   "source": [
    "### Cadenas de texto"
   ]
  },
  {
   "cell_type": "code",
   "execution_count": 8,
   "metadata": {},
   "outputs": [
    {
     "name": "stdout",
     "output_type": "stream",
     "text": [
      "<class 'str'>\n",
      "string: Hola Mundo!\n"
     ]
    }
   ],
   "source": [
    "s = \"Hola Mundo!\"\n",
    "print(type(s))\n",
    "print(\"string:\",s)"
   ]
  },
  {
   "cell_type": "markdown",
   "metadata": {},
   "source": [
    "### Booleanos"
   ]
  },
  {
   "cell_type": "code",
   "execution_count": 9,
   "metadata": {},
   "outputs": [
    {
     "name": "stdout",
     "output_type": "stream",
     "text": [
      "<class 'bool'>\n",
      "string: True\n"
     ]
    }
   ],
   "source": [
    "b=True\n",
    "print(type(b))\n",
    "print(\"string:\",b)"
   ]
  },
  {
   "cell_type": "markdown",
   "metadata": {},
   "source": [
    "## Retos\n",
    "Determina el tipo de variable de los siguientes elementos e imprimelos en pantalla, si alguno no es posible indica por que:\n",
    "* 12\n",
    "* 12.2\n",
    "* hola\n",
    "* \"mundo\"\n",
    "* b\n",
    "* 12 + 12+1\n",
    "* 12 + 12+1j\n",
    "* True\n",
    "* false\n",
    "\n",
    "\n"
   ]
  },
  {
   "cell_type": "code",
   "execution_count": null,
   "metadata": {},
   "outputs": [],
   "source": []
  }
 ],
 "metadata": {
  "kernelspec": {
   "display_name": "Python 3",
   "language": "python",
   "name": "python3"
  },
  "language_info": {
   "codemirror_mode": {
    "name": "ipython",
    "version": 3
   },
   "file_extension": ".py",
   "mimetype": "text/x-python",
   "name": "python",
   "nbconvert_exporter": "python",
   "pygments_lexer": "ipython3",
   "version": "3.8.8"
  }
 },
 "nbformat": 4,
 "nbformat_minor": 2
}
